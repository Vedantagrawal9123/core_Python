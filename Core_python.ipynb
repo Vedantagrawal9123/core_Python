{
  "nbformat": 4,
  "nbformat_minor": 0,
  "metadata": {
    "colab": {
      "provenance": []
    },
    "kernelspec": {
      "name": "python3",
      "display_name": "Python 3"
    },
    "language_info": {
      "name": "python"
    }
  },
  "cells": [
    {
      "cell_type": "markdown",
      "source": [
        "1. Write a python program to sum of the first n positive integers."
      ],
      "metadata": {
        "id": "C_LZsodNcmud"
      }
    },
    {
      "cell_type": "code",
      "execution_count": null,
      "metadata": {
        "id": "sZQb-c-CcDcB"
      },
      "outputs": [],
      "source": [
        "n = int(input(\"enter number: \"))\n",
        "x = 0\n",
        "for i in range(1,n+1):\n",
        "    x = x + i\n",
        "\n",
        "print(x)"
      ]
    },
    {
      "cell_type": "markdown",
      "source": [
        "2. Write a Python program to count occurrences of a substring in a string.\n",
        "3. Write a Python program to count the occurrences of each word in a given sentence."
      ],
      "metadata": {
        "id": "nxbDZifZdA6W"
      }
    },
    {
      "cell_type": "code",
      "source": [
        "#count occurence of a substring in a string\n",
        "#count the occurrences of each word in a given sentence.\n",
        "\n",
        "n = input(\"enter: \")\n",
        "x = input(\"enter what to count: \")\n",
        "print(n.count(\"in\"))\n",
        "print(n.count(x))\n"
      ],
      "metadata": {
        "id": "oI-g5TYQdFr4"
      },
      "execution_count": null,
      "outputs": []
    },
    {
      "cell_type": "markdown",
      "source": [
        "4. Write a Python program to get a single string from two given strings, separated by a space and swap the first\n",
        "two characters of each string"
      ],
      "metadata": {
        "id": "Tul0VEEjdRYf"
      }
    },
    {
      "cell_type": "code",
      "source": [
        "a = input(\"entert 1:\")\n",
        "b = input(\"entert 2:\")\n",
        "\n",
        "x = a.replace(a[0:2],b[0:2])\n",
        "y = b.replace(b[0:2],a[0:2])\n",
        "\n",
        "\n",
        "print(x,y)"
      ],
      "metadata": {
        "id": "e4EW6jymdavQ"
      },
      "execution_count": null,
      "outputs": []
    },
    {
      "cell_type": "markdown",
      "source": [
        "5. Write a Python program to add 'ing' at the end of a given string (length should be at least 3).\n",
        "If the given string already ends with 'ing' then add 'ly' instead If the string length of the given\n",
        "string is less than 3, leave it unchanged"
      ],
      "metadata": {
        "id": "MrsV63IfdmMj"
      }
    },
    {
      "cell_type": "code",
      "source": [
        "a = input(\"enter string :\")\n",
        "x = len(a)\n",
        "if(x >= 3):\n",
        "    if(a.endswith(\"ing\")==True):\n",
        "        b = a.removesuffix(\"ing\")\n",
        "        print(b.__add__(\"ly\"))\n",
        "\n",
        "    else:\n",
        "\n",
        "        print(a.__add__(\"ing\"))\n",
        "\n",
        "else:\n",
        "    print(a)"
      ],
      "metadata": {
        "id": "7hIeUT3edtfN"
      },
      "execution_count": null,
      "outputs": []
    },
    {
      "cell_type": "markdown",
      "source": [
        "6. Write a Python program to find the first appearance of the substring 'not' and 'poor' from a given string, if\n",
        "'not' follows the 'poor', replace the whole 'not'...'poor' substring with 'good'.\n",
        "Return the resulting string"
      ],
      "metadata": {
        "id": "vyeuJo3WdpUV"
      }
    },
    {
      "cell_type": "code",
      "source": [
        "a = input(\"enter string: \")\n",
        "\n",
        "if(a.count(\"not\") and a.count(\"poor\")):\n",
        "    print(a.replace(\"not poor\",\"good\"))\n",
        "else:\n",
        "    print(a)"
      ],
      "metadata": {
        "id": "s3sCVsPXdsxO"
      },
      "execution_count": null,
      "outputs": []
    },
    {
      "cell_type": "markdown",
      "source": [
        "7. Program to find Greatest Common Divisor of two numbers.\n",
        "For example, the GCD of 20 and 28 is 4 and GCD of 98 and 56 is 14"
      ],
      "metadata": {
        "id": "bWiN5apIdrnD"
      }
    },
    {
      "cell_type": "code",
      "source": [
        "a = int(input(\"enter number: \"))\n",
        "b = int(input(\"enter number: \"))\n",
        "c = []\n",
        "for i in range(1,a):\n",
        "    x = a%i\n",
        "    y = b%i\n",
        "    if(x==0 and y==0):\n",
        "        c.append(i)\n",
        "    else:\n",
        "        i=i+1\n",
        "\n",
        "print(max(c))\n",
        "\n"
      ],
      "metadata": {
        "id": "Btks-LIed2hP"
      },
      "execution_count": null,
      "outputs": []
    },
    {
      "cell_type": "markdown",
      "source": [
        "8. Write a Python program to check whether a list contains a sublist."
      ],
      "metadata": {
        "id": "zRmxhG7Vdw4-"
      }
    },
    {
      "cell_type": "code",
      "source": [
        "a = [1,2,3,3,4,[5,6],7,78,7]\n",
        "\n",
        "b = [5,6]\n",
        "\n",
        "\n",
        "if(b in a):\n",
        "    print(\"present\")\n",
        "else:\n",
        "    print(\"not present\")\n",
        "\n"
      ],
      "metadata": {
        "id": "SSdtE9u2d13y",
        "colab": {
          "base_uri": "https://localhost:8080/"
        },
        "outputId": "71ec8258-97eb-43be-fb8f-e1807483e12e"
      },
      "execution_count": null,
      "outputs": [
        {
          "output_type": "stream",
          "name": "stdout",
          "text": [
            "not present\n"
          ]
        }
      ]
    },
    {
      "cell_type": "markdown",
      "source": [
        "9. Write a Python program to find the second smallest number in a list."
      ],
      "metadata": {
        "id": "_tE5sEjKdzQe"
      }
    },
    {
      "cell_type": "code",
      "source": [
        "a = [1,221,34,5,331,11,3,2,111]\n",
        "a.sort()\n",
        "print(a[1])\n"
      ],
      "metadata": {
        "id": "1HpJnb_Fd3qw",
        "colab": {
          "base_uri": "https://localhost:8080/"
        },
        "outputId": "de1c099d-38b6-443c-d0cf-b1d73d827d64"
      },
      "execution_count": null,
      "outputs": [
        {
          "output_type": "stream",
          "name": "stdout",
          "text": [
            "2\n"
          ]
        }
      ]
    },
    {
      "cell_type": "markdown",
      "source": [
        "10. Write a Python program to get unique values from a list."
      ],
      "metadata": {
        "id": "XHAYtgL8d4H-"
      }
    },
    {
      "cell_type": "code",
      "source": [
        "l = [1,1,1,2,4,45,56,7,6]\n",
        "x = []\n",
        "\n",
        "for i in l:\n",
        "    if(i not in x):\n",
        "        x.append(i)\n",
        "\n",
        "print(x)\n"
      ],
      "metadata": {
        "id": "FSQT0c8Pd4iK"
      },
      "execution_count": null,
      "outputs": []
    },
    {
      "cell_type": "markdown",
      "source": [
        "11. Write a Python program to unzip a list of tuples into individual lists."
      ],
      "metadata": {
        "id": "a7bZWnw6d5Fp"
      }
    },
    {
      "cell_type": "code",
      "source": [
        "a = [(1,3),(2,4),(3,5)]\n",
        "\n",
        "for i in a:\n",
        "    x = [i]\n",
        "    print(x)\n"
      ],
      "metadata": {
        "id": "dqktwfPad5fj"
      },
      "execution_count": null,
      "outputs": []
    },
    {
      "cell_type": "markdown",
      "source": [
        "12. Write a Python program to convert a list of tuples into a dictionary"
      ],
      "metadata": {
        "id": "mDU1VGuMd54z"
      }
    },
    {
      "cell_type": "code",
      "source": [
        "\n",
        "x = [(\"1\",12),(\"2\",33),(\"3\",43)]\n",
        "\n",
        "y = {}\n",
        "\n",
        "for i,j in x:\n",
        "    y.setdefault(i,j)\n",
        "\n",
        "print(y)\n",
        "\n",
        "\n"
      ],
      "metadata": {
        "id": "33Ggdepyd6Pc",
        "colab": {
          "base_uri": "https://localhost:8080/"
        },
        "outputId": "b0666c1a-e0cd-4874-dfd7-7f55f0f0aed5"
      },
      "execution_count": null,
      "outputs": [
        {
          "output_type": "stream",
          "name": "stdout",
          "text": [
            "{'1': 12, '2': 33, '3': 43}\n"
          ]
        }
      ]
    },
    {
      "cell_type": "markdown",
      "source": [
        "13. Write a Python program to sort a dictionary (ascending /descending) by value"
      ],
      "metadata": {
        "id": "l18FSD6qd6lf"
      }
    },
    {
      "cell_type": "code",
      "source": [],
      "metadata": {
        "id": "6MVkQv1Ad65K"
      },
      "execution_count": null,
      "outputs": []
    },
    {
      "cell_type": "markdown",
      "source": [
        "\n",
        "14. Write a Python program to find the highest 3 values in a dictionary."
      ],
      "metadata": {
        "id": "pdHKQgoAeHUs"
      }
    },
    {
      "cell_type": "code",
      "source": [],
      "metadata": {
        "id": "pvi-l4hueHw_"
      },
      "execution_count": null,
      "outputs": []
    },
    {
      "cell_type": "markdown",
      "source": [
        "15. Given a number n, write a python program to make and print the\n",
        "\n",
        "list of Fibonacci series up to n.\n",
        "\n",
        "Input : n=7\n",
        "\n",
        "Hint : first 7 numbers in the series\n",
        "\n",
        "Expected output :\n",
        "First few Fibonacci numbers are 0, 1, 1, 2, 3, 5, 8, 13"
      ],
      "metadata": {
        "id": "GeK5qg9VeIEn"
      }
    },
    {
      "cell_type": "code",
      "source": [
        "n = int(input(\"enter no.:\"))\n",
        "a,b,c = 0,1,0\n",
        "x = []\n",
        "for i in range(1,n+1):\n",
        "    c = a + b\n",
        "    a = b\n",
        "    b = c\n",
        "    x.append(c)\n",
        "\n",
        "print(x)\n",
        "\n"
      ],
      "metadata": {
        "colab": {
          "base_uri": "https://localhost:8080/"
        },
        "id": "-fpuQlBmeIc8",
        "outputId": "fef14da7-1d52-4545-c1dd-fed9aa365225"
      },
      "execution_count": null,
      "outputs": [
        {
          "output_type": "stream",
          "name": "stdout",
          "text": [
            "enter no.:5\n",
            "[1, 2, 3, 5, 8]\n"
          ]
        }
      ]
    },
    {
      "cell_type": "markdown",
      "source": [
        "16. Counting the frequencies in a list using a dictionary in Python.\n",
        "\n",
        "Input : [1, 1, 1, 5, 5, 3, 1, 3, 3, 1,4, 4, 4, 2, 2, 2, 2]\n",
        "\n",
        "Expected output : 1 : 5 , 2 : 4 , 3 : 3 , 4 : 3 , 5 : 2"
      ],
      "metadata": {
        "id": "n8xgTRtUeK-V"
      }
    },
    {
      "cell_type": "code",
      "source": [
        "a = [1, 1, 1, 5, 5, 3, 1, 3, 3, 1,4, 4, 4, 2, 2, 2, 2]\n",
        "\n",
        "\n",
        "b = {1:a.count(1),2:a.count(2),3:a.count(3),4:a.count(4),5:a.count(5)}\n",
        "\n",
        "print(b)"
      ],
      "metadata": {
        "colab": {
          "base_uri": "https://localhost:8080/"
        },
        "id": "SK0M8HaMeJlw",
        "outputId": "366e0e53-abcf-4c6f-e5ca-866b30697de2"
      },
      "execution_count": null,
      "outputs": [
        {
          "output_type": "stream",
          "name": "stdout",
          "text": [
            "{1: 5, 2: 4, 3: 3, 4: 3, 5: 2}\n"
          ]
        }
      ]
    },
    {
      "cell_type": "markdown",
      "source": [
        "17. Write a python program using function to find the sum of odd series and even series\n",
        "\n",
        "Odd series: 12/ 1! + 32/ 3! + 52/ 5!+……n\n",
        "\n",
        "Even series: 22/ 2! + 42/ 4! + 62/ 6!+……n"
      ],
      "metadata": {
        "id": "mJQG0uSAeJAV"
      }
    },
    {
      "cell_type": "code",
      "source": [
        "import math\n",
        "\n",
        "n = int(input(\"enter: \"))\n",
        "a = 0\n",
        "b = 0\n",
        "c = 0\n",
        "d = 0\n",
        "e = 0\n",
        "x = 0\n",
        "if(n%2==0):\n",
        "    for i in range(0,n+1):\n",
        "        a = 12 + i*20\n",
        "        b = 1 + (i * 2)\n",
        "        x = math.factorial(b)\n",
        "        c = c + float(a/(x))\n",
        "    print(c)\n",
        "else:\n",
        "    for i in range(0,n+1):\n",
        "        d = 22 + i*20\n",
        "        e = 2 + (i * 2)\n",
        "        x = math.factorial(e)\n",
        "        c = c + float(d/(x))\n",
        "    print(c)\n",
        ""
      ],
      "metadata": {
        "colab": {
          "base_uri": "https://localhost:8080/"
        },
        "id": "XdyfBTRwemLg",
        "outputId": "9f75e0e2-b21d-4c36-b13e-955d499e1d34"
      },
      "execution_count": null,
      "outputs": [
        {
          "output_type": "stream",
          "name": "stdout",
          "text": [
            "enter: 5\n",
            "12.838173204431884\n"
          ]
        }
      ]
    },
    {
      "cell_type": "markdown",
      "source": [
        "18. Python Program to Find Factorial of Number Using Recursion"
      ],
      "metadata": {
        "id": "GfhE6ofdemnj"
      }
    },
    {
      "cell_type": "code",
      "source": [
        "def fact(n):\n",
        "    a  = 1\n",
        "    for i in range(1,n+1):\n",
        "        a = a * i\n",
        "    print(a)\n",
        "\n",
        "\n",
        "n = int(input(\"enter no. for factorial: \"))\n",
        "fact(n)\n"
      ],
      "metadata": {
        "colab": {
          "base_uri": "https://localhost:8080/"
        },
        "id": "c3tSZicpepFA",
        "outputId": "8ff5ee53-edcd-4405-a563-927c28338adf"
      },
      "execution_count": null,
      "outputs": [
        {
          "output_type": "stream",
          "name": "stdout",
          "text": [
            "enter no. for factorial: 10\n",
            "3628800\n"
          ]
        }
      ]
    },
    {
      "cell_type": "markdown",
      "source": [
        "19. Write a Python function that takes a list and returns a new list with unique elements of the first list"
      ],
      "metadata": {
        "id": "xfphH-1Heprm"
      }
    },
    {
      "cell_type": "code",
      "source": [
        "def element(x):\n",
        "  x = []\n",
        "  for i in x:\n",
        "    if(i not in x):\n",
        "      x.append(i)\n",
        "    return x\n",
        "\n",
        "  print(element(1,2,1,2,3,4,5,6))"
      ],
      "metadata": {
        "id": "gl6owYBxesIs"
      },
      "execution_count": null,
      "outputs": []
    }
  ]
}